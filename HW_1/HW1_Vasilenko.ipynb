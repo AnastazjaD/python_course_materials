{
 "cells": [
  {
   "cell_type": "markdown",
   "id": "ef43214b",
   "metadata": {},
   "source": [
    "# 0. Наибольший общий делитель - 1 балл\n",
    "Напишите функцию, которая на вход принимает два целых числа, а на выходе отдает их наибольших общий делитель. \n",
    "\n",
    "Пример\n",
    "\n",
    "Ввод \n",
    "\n",
    "`lcd(10,2)`\n",
    "\n",
    "Вывод\n",
    "\n",
    "`2`\n",
    "\n",
    "Пример\n",
    "\n",
    "Ввод \n",
    "\n",
    "`lcd(10,25)`\n",
    "\n",
    "Вывод\n",
    "\n",
    "`5`"
   ]
  },
  {
   "cell_type": "code",
   "execution_count": 1,
   "id": "d227561c",
   "metadata": {},
   "outputs": [
    {
     "name": "stdout",
     "output_type": "stream",
     "text": [
      "10\n",
      "25\n",
      "5\n"
     ]
    }
   ],
   "source": [
    "a = int(input()) \n",
    "b = int(input()) \n",
    "while a != 0 and b != 0:\n",
    "    if a > b:\n",
    "        a = a % b\n",
    "    else:\n",
    "        b = b % a\n",
    "print(a + b)\n"
   ]
  },
  {
   "cell_type": "markdown",
   "id": "777171f3",
   "metadata": {},
   "source": [
    "# 1. Задачка про перевод из `camel_case`'a в `snake_case` - 1.5 балла\n",
    " Напишите функцию, которая на вход принимает строку, записанную в `CamelCase`, а переводит ее в `snake_case`.\n",
    " Подсказка: идите по строке циклом, обрабатывайте каждый символ, если символ заглавный, к обработанным ранее добавляйте нижнее подчеркивание и нынешний переводите в `lower case` \n",
    " \n",
    " Пример:\n",
    "\n",
    "**Вход**: `'camelCaseVar'`\n",
    "\n",
    "**Выход**: `'camel_сase_var'`"
   ]
  },
  {
   "cell_type": "code",
   "execution_count": 2,
   "id": "5e4c1ced",
   "metadata": {},
   "outputs": [
    {
     "name": "stdout",
     "output_type": "stream",
     "text": [
      "jhhbjkhAgfvjhbT\n",
      "<function camel_to_snake at 0x000002083B7D9AF0>\n"
     ]
    }
   ],
   "source": [
    "camel_to_snake = input()\n",
    "def camel_to_snake(str):\n",
    "    result = \"\"\n",
    "    for i in str:\n",
    "        if c.isupper():\n",
    "            if len(result) == 0:\n",
    "                result += c.lower()\n",
    "            else:\n",
    "                result += '_' + c.lower()\n",
    "        else:\n",
    "            result += i\n",
    "    return result\n",
    "\n",
    "print (camel_to_snake)\n"
   ]
  },
  {
   "cell_type": "markdown",
   "id": "929847a2",
   "metadata": {},
   "source": [
    "# 2. Про Поросёнка Петра - 2 балла\n",
    "На плоскости в точке `(0,0)` стоит Поросёнок Пётр. Он умеет ходить налево, направо, вверх и вниз. Расстояние его прохода в какую-либо сторону измеряется в шагах. Когда он идет вправо, его первая координата увеличивается, когда влево - уменьшается. Когда он идет вверх, его вторая координата увеличивается, а когда вниз - уменьшается.\n",
    "С клавиатуры считывается число `N` - число ходов, которые сделает Пётр. После чего на каждом шаге спрашивается, сколько шагов и в какую сторону за этот ход Пётр сделает. Так происходит, пока Пётр не осуществит все N ходов.\n",
    "Программа должна вывести, сколько шагов Пётр должен был бы сделать, чтобы кратчайшим путем прибыть из свое начальной точки `(0,0)` в свою конечную точку. \n",
    "\n",
    "Напоминание: Пётр умеет ходить только вверх-вниз, и влево-вправо, но не по диагонали.\n",
    "\n",
    "Пример ввода:\n",
    "\n",
    "Введите N: `3`\n",
    "\n",
    "Ход 1: `Вверх 1`\n",
    "\n",
    "Ход 2: `Вниз 1`\n",
    "\n",
    "Ход 3: `Вверх 1`\n",
    "\n",
    "Пример вывода:\n",
    "`Пётр находится на расстоянии 1 от (0,0)`"
   ]
  },
  {
   "cell_type": "code",
   "execution_count": null,
   "id": "b3231431",
   "metadata": {},
   "outputs": [],
   "source": []
  },
  {
   "cell_type": "code",
   "execution_count": null,
   "id": "5fa08fd0",
   "metadata": {},
   "outputs": [],
   "source": []
  },
  {
   "cell_type": "markdown",
   "id": "818909ca",
   "metadata": {},
   "source": [
    "# 3. Sort the keys of the dictionary from a to z.  - 0.5 балла"
   ]
  },
  {
   "cell_type": "code",
   "execution_count": null,
   "id": "b81d45f3",
   "metadata": {},
   "outputs": [],
   "source": [
    "d_= {\"tiramisu\":5, \"chocolate\":2, \"pudding\":3, \"cheesecake\":4}"
   ]
  },
  {
   "cell_type": "code",
   "execution_count": 4,
   "id": "aaca8dd9",
   "metadata": {},
   "outputs": [
    {
     "name": "stdout",
     "output_type": "stream",
     "text": [
      "{'cheesecake': 4, 'chocolate': 2, 'pudding': 3, 'tiramisu': 5}\n"
     ]
    }
   ],
   "source": [
    "d_ = {\"tiramisu\":5, \"chocolate\":2, \"pudding\":3, \"cheesecake\":4}\n",
    "sort = dict(sorted(d_.items(), key=lambda x: x[0].lower()) )\n",
    "print(sort)\n"
   ]
  },
  {
   "cell_type": "markdown",
   "id": "77275ebf",
   "metadata": {},
   "source": [
    "# 4. Compare three values, return true only if 2 or more values are equal - 0.5 балла"
   ]
  },
  {
   "cell_type": "code",
   "execution_count": 16,
   "id": "d0893272",
   "metadata": {},
   "outputs": [
    {
     "name": "stdout",
     "output_type": "stream",
     "text": [
      "False\n",
      "True\n",
      "True\n"
     ]
    }
   ],
   "source": [
    "def numbers (a, b, c):\n",
    "    if a == b  or b == c or a == c:\n",
    "        return True\n",
    "    else :\n",
    "        return False\n",
    "\n",
    "print (numbers (2,15,4))\n",
    "print (numbers (2,2,2))\n",
    "print (numbers (2,2,15))"
   ]
  },
  {
   "cell_type": "markdown",
   "id": "895340c0",
   "metadata": {},
   "source": [
    "# 5. Given a list with pairs, sort on the sum of pairs - 0.5 балла"
   ]
  },
  {
   "cell_type": "code",
   "execution_count": 1,
   "id": "7a8971e2",
   "metadata": {},
   "outputs": [],
   "source": [
    "x = [(3,6),(4,7),(5,9),(8,4),(3,1)]"
   ]
  },
  {
   "cell_type": "code",
   "execution_count": 17,
   "id": "46e5cd57",
   "metadata": {},
   "outputs": [
    {
     "name": "stdout",
     "output_type": "stream",
     "text": [
      "[(3, 1), (3, 6), (4, 7), (8, 4), (5, 9)]\n"
     ]
    }
   ],
   "source": [
    "x = [(3,6),(4,7),(5,9),(8,4),(3,1)]\n",
    "print(sorted(x, key = lambda x:x[0] + x[1]))\n"
   ]
  },
  {
   "cell_type": "markdown",
   "id": "be5b7018",
   "metadata": {},
   "source": [
    "# 6. Create a function that takes a list of numbers. Return the largest number in the list. - 0.5 балла"
   ]
  },
  {
   "cell_type": "code",
   "execution_count": null,
   "id": "2ddbc7bf",
   "metadata": {},
   "outputs": [],
   "source": [
    "findLargestNum([4, 5, 1, 3]) ➞ 5\n",
    "\n",
    "findLargestNum([300, 200, 600, 150]) ➞ 600\n",
    "\n",
    "findLargestNum([1000, 1001, 857, 1]) ➞ 1001"
   ]
  },
  {
   "cell_type": "code",
   "execution_count": null,
   "id": "6ffe36a4",
   "metadata": {},
   "outputs": [],
   "source": [
    "\n",
    "findLargestNum=[1000, 1001, 857, 1]\n",
    "max_n = max(findLargestNum)\n",
    "print(\"➞\", max_n)\n"
   ]
  },
  {
   "cell_type": "markdown",
   "id": "17918763",
   "metadata": {},
   "source": [
    "# 7. Create a function that takes a string and returns the concatenated first and last character. - 0.5 балла"
   ]
  },
  {
   "cell_type": "code",
   "execution_count": null,
   "id": "7062bfdb",
   "metadata": {},
   "outputs": [],
   "source": [
    "repetition(\"ab\", 3) ➞ \"ababab\"\n",
    "\n",
    "repetition(\"kiwi\", 1) ➞ \"kiwi\"\n",
    "\n",
    "repetition(\"cherry\", 2) ➞ \"cherrycherry\""
   ]
  },
  {
   "cell_type": "code",
   "execution_count": null,
   "id": "3cee380b",
   "metadata": {},
   "outputs": [],
   "source": [
    "d = input()\n",
    "e = int(input())\n",
    "print(d*e)\n"
   ]
  },
  {
   "cell_type": "code",
   "execution_count": 4,
   "id": "63c07f2c",
   "metadata": {},
   "outputs": [
    {
     "name": "stdout",
     "output_type": "stream",
     "text": [
      "yih\n",
      "3\n"
     ]
    },
    {
     "data": {
      "text/plain": [
       "'yihyihyih'"
      ]
     },
     "execution_count": 4,
     "metadata": {},
     "output_type": "execute_result"
    }
   ],
   "source": [
    "def re():\n",
    "    word = input( )\n",
    "    n = int(input( ))\n",
    "    return(word * n)\n",
    "re()"
   ]
  },
  {
   "cell_type": "markdown",
   "id": "5c2fe48a",
   "metadata": {},
   "source": [
    "# 8. Create a function that takes a 2D list lst returns the sum of the minimum value in each row. - 0.5 балла"
   ]
  },
  {
   "cell_type": "code",
   "execution_count": null,
   "id": "c3232abb",
   "metadata": {},
   "outputs": [],
   "source": [
    "sum_minimums([\n",
    "  [1, 2, 3, 4, 5],\n",
    "  [5, 6, 7, 8, 9],\n",
    "  [20, 21, 34, 56, 100]\n",
    "] ➞ 26\n",
    "\n",
    "# minimum value of the first row is 1\n",
    "# minimum value of the second row is 5\n",
    "# minimum value of the third row is 20"
   ]
  },
  {
   "cell_type": "code",
   "execution_count": 22,
   "id": "ceff6b72",
   "metadata": {},
   "outputs": [
    {
     "name": "stdout",
     "output_type": "stream",
     "text": [
      "26\n"
     ]
    }
   ],
   "source": [
    "sum_minimums = ([\n",
    "  [1, 2, 3, 4, 5],\n",
    "  [5, 6, 7, 8, 9],\n",
    "  [20, 21, 34, 56, 100]\n",
    "])\n",
    "\n",
    "def f_min(new):\n",
    "        \n",
    "    min = new [0]\n",
    "    for i in new:\n",
    "        if i < min :\n",
    "            min = i\n",
    "    return min\n",
    "print(sum(list(map(f_min, sum_minimums))))\n"
   ]
  },
  {
   "cell_type": "markdown",
   "id": "88c6709f",
   "metadata": {},
   "source": [
    "# 9. Create a function to return the amount of potatoes there are in a string. - 0.5 балла"
   ]
  },
  {
   "cell_type": "code",
   "execution_count": null,
   "id": "e2610cbd",
   "metadata": {},
   "outputs": [],
   "source": [
    "potatoes(\"potato\") ➞ 1\n",
    "\n",
    "potatoes(\"potatopotato\") ➞ 2\n",
    "\n",
    "potatoes(\"potatoapple\") ➞ 1"
   ]
  },
  {
   "cell_type": "code",
   "execution_count": 23,
   "id": "7f669d64",
   "metadata": {},
   "outputs": [
    {
     "name": "stdout",
     "output_type": "stream",
     "text": [
      "potatofmdskjgndfkjzmlpotato\n",
      "2\n"
     ]
    }
   ],
   "source": [
    "a = input()\n",
    "print(a.count('potato'))\n"
   ]
  },
  {
   "cell_type": "code",
   "execution_count": null,
   "id": "3407651d",
   "metadata": {},
   "outputs": [],
   "source": []
  },
  {
   "cell_type": "markdown",
   "id": "7fb5aa44",
   "metadata": {},
   "source": [
    "# 10. Create a function that takes a list of integers as an argument and returns a unique number from that list. All numbers except unique ones have the same number of occurrences in the list. - 0.5 балла"
   ]
  },
  {
   "cell_type": "code",
   "execution_count": null,
   "id": "a43f80e0",
   "metadata": {},
   "outputs": [],
   "source": [
    "find_single_number([2, 2, 2, 3, 4, 4, 4]) ➞ 3\n",
    "\n",
    "find_single_number([2]) ➞ 2\n",
    "\n",
    "find_single_number([]) ➞ None\n",
    "\n",
    "find_single_number([7, 13, 3, 6, 5, 4, 4, 13, 5, 3, 6, 7, 6, 5, 3, 13, 4, 7, 13, 5, 7, 4, 3, 6, 8, 4, 3, 7, 5, 6, 13]) ➞ 8\n",
    "\n",
    "find_single_number([1, 2, 3, 6, 5, 4, 4, 2, 5, 3, 6, 1, 6, 5, 3, 2, 4, 1, 2, 5, 1, 4, 3, 6, 101, 4, 3, 1, 5, 6, 2]) ➞ 101\n"
   ]
  },
  {
   "cell_type": "code",
   "execution_count": 25,
   "id": "c0e1bb33",
   "metadata": {},
   "outputs": [
    {
     "name": "stdout",
     "output_type": "stream",
     "text": [
      "8\n"
     ]
    }
   ],
   "source": [
    "def find_single_number(list):\n",
    "    for i in list:\n",
    "        a = 0\n",
    "        b = 0\n",
    "        for j in list:\n",
    "            if i == j:\n",
    "                a = i\n",
    "                b += 1\n",
    "        if b == 1:\n",
    "            return a\n",
    "    return None\n",
    "\n",
    "single_number = [7, 13, 3, 6, 5, 4, 4, 13, 5, 3, 6, 7, 6, 5, 3, 13, 4, 7, 13, 5, 7, 4, 3, 6, 8, 4, 3, 7, 5, 6, 13]\n",
    "print(find_single_number(single_number))\n"
   ]
  },
  {
   "cell_type": "markdown",
   "id": "0313ea52",
   "metadata": {},
   "source": [
    "# 11. Given a letter and a list of words, return whether the letter does not appear in any of the words. - 0.5 балла"
   ]
  },
  {
   "cell_type": "code",
   "execution_count": null,
   "id": "0cb649a5",
   "metadata": {},
   "outputs": [],
   "source": [
    "forbidden_letter(\"r\", [\"rock\", \"paper\", \"scissors\"]) ➞ False\n",
    "\n",
    "forbidden_letter(\"a\", [\"spoon\", \"fork\", \"knife\"]) ➞ True\n",
    "\n",
    "forbidden_letter(\"m\", []) ➞ True"
   ]
  },
  {
   "cell_type": "code",
   "execution_count": 26,
   "id": "ff447294",
   "metadata": {},
   "outputs": [
    {
     "name": "stdout",
     "output_type": "stream",
     "text": [
      "forbidden_letter:j\n",
      "vndkgfnduigjdigd\n",
      "False\n"
     ]
    }
   ],
   "source": [
    "d = input('forbidden_letter:')\n",
    "e = input()\n",
    "if e.find(d)!=-1:\n",
    "    print(\"False\")\n",
    "else:\n",
    "    print(\"True\")\n"
   ]
  },
  {
   "cell_type": "markdown",
   "id": "0a7ef5b5",
   "metadata": {},
   "source": [
    "# 12.  Define a function which create a Pattern like this one.  - 2 балла"
   ]
  },
  {
   "cell_type": "code",
   "execution_count": null,
   "id": "7617ebb7",
   "metadata": {},
   "outputs": [],
   "source": [
    "Input: 4\n",
    "Pattern:\n",
    "\n",
    " 01234\n",
    "  | |     0\n",
    " -----    1\n",
    "  | |     2\n",
    " -----    3\n",
    "  | |     4"
   ]
  },
  {
   "cell_type": "code",
   "execution_count": null,
   "id": "5d3b0cdd",
   "metadata": {},
   "outputs": [],
   "source": [
    "size = int(input())\n",
    "x = size//2\n",
    "y= x%2\n",
    "z= size+1\n",
    "for i in range(0, x):\n",
    "            print((\"  | \")*x) \n",
    "            for i in range(0, 1):\n",
    "                        print(\"_ \"*z)\n",
    "if y == 0:\n",
    "            print((\"  | \")*x) \n",
    "#понимаю, что работает только на этот паттерн, еще думаю (не могу преодолеть нечетность)\n",
    "#функия.\n"
   ]
  },
  {
   "cell_type": "markdown",
   "id": "0d5edcd1",
   "metadata": {},
   "source": [
    "# 13. Create a function that takes three numbers as arguments and returns True if it's a triangle and False if not.  - 0.5 балла"
   ]
  },
  {
   "cell_type": "code",
   "execution_count": null,
   "id": "d867302c",
   "metadata": {},
   "outputs": [],
   "source": [
    "is_triangle(2, 3, 4) ➞ True\n",
    "\n",
    "is_triangle(3, 4, 5) ➞ True\n",
    "\n",
    "is_triangle(4, 3, 8) ➞ False"
   ]
  },
  {
   "cell_type": "code",
   "execution_count": 30,
   "id": "78e51946",
   "metadata": {},
   "outputs": [
    {
     "name": "stdout",
     "output_type": "stream",
     "text": [
      "True\n"
     ]
    }
   ],
   "source": [
    "#a = int(input()) \n",
    "#b = int(input()) \n",
    "#c = int(input()) \n",
    "#if a+b<c or a+c<b or b+c<a:\n",
    "   # print(\"➞ False\")\n",
    "#else:\n",
    "  #  print(\"➞ True\")\n",
    "def is_triangle (x, y, z):\n",
    "  value = True\n",
    "  if ( x + y <= z ) or ( x + z <= y) or ( y + z <= x ):\n",
    "    value = False\n",
    "  return value\n",
    "print (is_triangle(2, 3, 4))"
   ]
  },
  {
   "cell_type": "markdown",
   "id": "2bdfb66e",
   "metadata": {},
   "source": [
    "# 14. Create a \"Code\" Generator that takes text as input and replaces some letter with another letter, and outputs the \"encoded\" message. Create funcs to encode and decode messages"
   ]
  },
  {
   "cell_type": "code",
   "execution_count": null,
   "id": "0caf2b35",
   "metadata": {},
   "outputs": [],
   "source": [
    "replacement = {\"a\": \"b\", \"d\": \"1\" ......}"
   ]
  },
  {
   "cell_type": "code",
   "execution_count": 31,
   "id": "7ba3b49d",
   "metadata": {},
   "outputs": [
    {
     "name": "stdout",
     "output_type": "stream",
     "text": [
      "jgndk\n",
      "Result: \"olsip\"\n",
      "olsip\n",
      "Result: \"jgndk\"\n"
     ]
    }
   ],
   "source": [
    "a = 5\n",
    "b = input()\n",
    "c = ' abcdefghijklmnopqrstuvwxyz'\n",
    "res = []\n",
    "len_c=len(c)\n",
    "for i in b:\n",
    "    res.append(c[(c.find(i)+a)%len_c]) \n",
    "print('Result: ', '\"',''.join(res),'\"', sep = '')\n",
    "a = 5\n",
    "b = input()\n",
    "c = ' abcdefghijklmnopqrstuvwxyz'\n",
    "res = []\n",
    "len_c=len(c)\n",
    "for i in b:\n",
    "    res.append(c[(c.find(i)-a)%len_c]) \n",
    "print('Result: ', '\"',''.join(res),'\"', sep = '')\n"
   ]
  }
 ],
 "metadata": {
  "kernelspec": {
   "display_name": "Python 3 (ipykernel)",
   "language": "python",
   "name": "python3"
  },
  "language_info": {
   "codemirror_mode": {
    "name": "ipython",
    "version": 3
   },
   "file_extension": ".py",
   "mimetype": "text/x-python",
   "name": "python",
   "nbconvert_exporter": "python",
   "pygments_lexer": "ipython3",
   "version": "3.8.0"
  }
 },
 "nbformat": 4,
 "nbformat_minor": 5
}
